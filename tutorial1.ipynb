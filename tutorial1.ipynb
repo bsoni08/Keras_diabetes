{
 "nbformat": 4,
 "nbformat_minor": 2,
 "metadata": {
  "language_info": {
   "name": "python",
   "codemirror_mode": {
    "name": "ipython",
    "version": 3
   },
   "version": "3.6.8"
  },
  "orig_nbformat": 2,
  "file_extension": ".py",
  "mimetype": "text/x-python",
  "name": "python",
  "npconvert_exporter": "python",
  "pygments_lexer": "ipython3",
  "version": 3
 },
 "cells": [
  {
   "cell_type": "code",
   "execution_count": 4,
   "metadata": {},
   "outputs": [],
   "source": [
    "import numpy as np \n",
    "import pandas as pd \n",
    "from keras.models import Sequential\n",
    "from keras.layers import Dense\n"
   ]
  },
  {
   "cell_type": "markdown",
   "execution_count": null,
   "metadata": {},
   "outputs": [],
   "source": [
    "I am using Pima Indians onset of diabetes dataset for this exercise. It is a patient medical record regarding the onset of diabetes within 5 years in Pima Indians. So, it this binary classification 1 represents onset of diabetes and 0 otherwise. \n",
    "\n",
    "- In this dataset input variables are numerical\n",
    "- datafiles and data details are available in the repo\n"
   ]
  },
  {
   "cell_type": "code",
   "execution_count": 5,
   "metadata": {},
   "outputs": [
    {
     "name": "stdout",
     "output_type": "stream",
     "text": "6  148  72  35    0  33.6  0.627  50  1\n0  1   85  66  29    0  26.6  0.351  31  0\n1  8  183  64   0    0  23.3  0.672  32  1\n2  1   89  66  23   94  28.1  0.167  21  0\n3  0  137  40  35  168  43.1  2.288  33  1\n4  5  116  74   0    0  25.6  0.201  30  0\n"
    }
   ],
   "source": [
    "dset = pd.read_csv('\\keras_tutorial2\\pima-indians-diabetes.csv')\n",
    "print(dset.head())"
   ]
  },
  {
   "cell_type": "markdown",
   "execution_count": null,
   "metadata": {},
   "outputs": [],
   "source": [
    "- Last coloumn is the output variable and rest of the columns are input variables\n",
    "- we want to model output variable as a function of input variables\n",
    "\n",
    "In simple words, \n",
    "- y, the output variable is just a binary classification\n",
    "- X, a set of 8 input variables (first 8 columns) for each individual (each row) are:\n",
    "\n",
    "1. Number of times pregnant\n",
    "2. Plasma Glucose concentration\n",
    "3. Diastolic blood pressure\n",
    "4. Triceps skin fold thickness\n",
    "5. 2-hour serum insulin\n",
    "6. Body mass index \n",
    "7. Diabetes pedigree function\n",
    "8. Age\n",
    "\n",
    "further details of the dataset are in in the file https://github.com/bsoni08/Keras_tutorial/blob/master/pima-indians-diabetes_names.txt\n",
    "\n",
    "\n"
   ]
  },
  {
   "cell_type": "code",
   "execution_count": null,
   "metadata": {},
   "outputs": [],
   "source": []
  },
  {
   "cell_type": "code",
   "execution_count": null,
   "metadata": {},
   "outputs": [],
   "source": []
  },
  {
   "cell_type": "code",
   "execution_count": null,
   "metadata": {},
   "outputs": [],
   "source": []
  },
  {
   "cell_type": "code",
   "execution_count": null,
   "metadata": {},
   "outputs": [],
   "source": []
  },
  {
   "cell_type": "code",
   "execution_count": null,
   "metadata": {},
   "outputs": [],
   "source": []
  },
  {
   "cell_type": "code",
   "execution_count": null,
   "metadata": {},
   "outputs": [],
   "source": []
  },
  {
   "cell_type": "code",
   "execution_count": null,
   "metadata": {},
   "outputs": [],
   "source": []
  }
 ]
}