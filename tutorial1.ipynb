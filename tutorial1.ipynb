{
 "nbformat": 4,
 "nbformat_minor": 2,
 "metadata": {
  "language_info": {
   "name": "python",
   "codemirror_mode": {
    "name": "ipython",
    "version": 3
   },
   "version": "3.6.8"
  },
  "orig_nbformat": 2,
  "file_extension": ".py",
  "mimetype": "text/x-python",
  "name": "python",
  "npconvert_exporter": "python",
  "pygments_lexer": "ipython3",
  "version": 3
 },
 "cells": [
  {
   "cell_type": "markdown",
   "execution_count": null,
   "metadata": {},
   "outputs": [],
   "source": []
  },
  {
   "cell_type": "code",
   "execution_count": 26,
   "metadata": {},
   "outputs": [],
   "source": [
    "import numpy as np \n",
    "import pandas as pd \n",
    "import tensorflow as tf\n",
    "#from keras.models import Sequential\n",
    "#from keras.layers import Dense\n"
   ]
  },
  {
   "cell_type": "markdown",
   "execution_count": null,
   "metadata": {},
   "outputs": [],
   "source": [
    "I am using Pima Indians onset of diabetes dataset for this exercise. It is a patient medical record regarding the onset of diabetes within 5 years in Pima Indians. So, it this binary classification 1 represents onset of diabetes and 0 otherwise. \n",
    "\n",
    "- In this dataset input variables are numerical\n",
    "- datafiles and data details are available in the repo\n"
   ]
  },
  {
   "cell_type": "code",
   "execution_count": 19,
   "metadata": {},
   "outputs": [],
   "source": [
    "dset = pd.read_csv('\\keras_tutorial2\\pima-indians-diabetes.csv')\n"
   ]
  },
  {
   "cell_type": "markdown",
   "execution_count": null,
   "metadata": {},
   "outputs": [],
   "source": [
    "- Last coloumn is the output variable and rest of the columns are input variables\n",
    "- we want to model output variable as a function of input variables\n",
    "\n",
    "In simple words, \n",
    "- y, the output variable is just a binary classification\n",
    "- X, a set of 8 input variables (first 8 columns) for each individual (each row) are:\n",
    "\n",
    "    - Number of times pregnant\n",
    "    - Plasma Glucose concentration\n",
    "    - Diastolic blood pressure\n",
    "    - Triceps skin fold thickness\n",
    "    - 2-hour serum insulin\n",
    "    - Body mass index \n",
    "    - Diabetes pedigree function\n",
    "    - Age\n",
    "\n",
    "further details of the dataset are in in the file https://github.com/bsoni08/Keras_tutorial/blob/master/pima-indians-diabetes_names.txt\n",
    "\n",
    "\n"
   ]
  },
  {
   "cell_type": "code",
   "execution_count": 22,
   "metadata": {},
   "outputs": [],
   "source": [
    "#print(dset.head())\n",
    "dset_in = dset.iloc[:,0:8] # first 8 columns input variables\n",
    "#print(dset_in.head())\n",
    "dset_out = dset.iloc[:,-1] # last column output variable \n",
    "#print(dset_out)\n"
   ]
  },
  {
   "cell_type": "markdown",
   "execution_count": null,
   "metadata": {},
   "outputs": [],
   "source": [
    "\n",
    "\n"
   ]
  },
  {
   "cell_type": "code",
   "execution_count": 28,
   "metadata": {},
   "outputs": [],
   "source": [
    "\n",
    "model = tf.keras.Sequential()\n",
    "model.add(tf.keras.layers.Dense(12, input_dim = 8, activation = 'relu'))\n",
    "model.add(tf.keras.layers.Dense(8, activation = 'relu'))\n",
    "model.add(tf.keras.layers.Dense(1,activation = 'sigmoid'))\n",
    "\n"
   ]
  },
  {
   "cell_type": "code",
   "execution_count": 29,
   "metadata": {},
   "outputs": [],
   "source": [
    "model.compile(loss = 'binary_crossentropy', optimizer = 'adam', metrics = ['accuracy'])"
   ]
  },
  {
   "cell_type": "code",
   "execution_count": null,
   "metadata": {},
   "outputs": [],
   "source": []
  },
  {
   "cell_type": "code",
   "execution_count": null,
   "metadata": {},
   "outputs": [],
   "source": []
  },
  {
   "cell_type": "code",
   "execution_count": null,
   "metadata": {},
   "outputs": [],
   "source": []
  }
 ]
}